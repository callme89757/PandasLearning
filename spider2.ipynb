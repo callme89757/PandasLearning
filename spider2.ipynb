{
 "cells": [
  {
   "cell_type": "code",
   "execution_count": 29,
   "metadata": {},
   "outputs": [],
   "source": [
    "import requests as req\n",
    "import time\n",
    "url='https://api.douban.com/v2/movie/1292052?apikey=0df993c66c0c636e29ecbb5344252a4a'\n",
    "r=req.get(url,headers={'user-agent':'Mozilla/5.0 (Windows NT 10.0; WOW64) AppleWebKit/537.36 (KHTML, like Gecko) Chrome/70.0.3538.25 Safari/537.36 Core/1.70.3741.400 QQBrowser/10.5.3863.400'})\n",
    "xsk_info=r.json()\n",
    "with open('E:/myprogram/spider/xsk.jpg','wb') as file:\n",
    "    file.write(req.get(xsk_info['image']).content)\n",
    "    \n",
    "    "
   ]
  },
  {
   "cell_type": "code",
   "execution_count": null,
   "metadata": {},
   "outputs": [],
   "source": [
    "url250=' https://api.douban.com/v2/movie/top250?start=0&apikey=0df993c66c0c636e29ecbb5344252a4a'\n",
    "r=req.get(url250,headers={'user-agent':'Mozilla/5.0 (Windows NT 10.0; WOW64) AppleWebKit/537.36 (KHTML, like Gecko) Chrome/70.0.3538.25 Safari/537.36 Core/1.70.3741.400 QQBrowser/10.5.3863.400'})\n",
    "top_info=r.json()\n",
    "avatar=''\n",
    "for movie in top_info['subjects']:\n",
    "    id=movie['id']\n",
    "    title=movie['title']\n",
    "    average=movie['rating']['average']\n",
    "    for avatars in movie['casts']:\n",
    "        avatar=avatars['name']+','+avatar\n",
    "    image=movie['images'][\"medium\"]\n",
    "    top250=str(id)+' '+title+' '+str(average)+' '+avatar+' '+image+'\\n'\n",
    "    with open('E:/myprogram/spider/movie250.csv','a+') as file:\n",
    "        file.writelines(top250)\n",
    "    with open(('E:/myprogram/spider/%s.jpg' %id),'wb') as file:\n",
    "        file.write(req.get(image).content)\n",
    "        time.sleep(3)"
   ]
  },
  {
   "cell_type": "code",
   "execution_count": null,
   "metadata": {},
   "outputs": [],
   "source": []
  },
  {
   "cell_type": "code",
   "execution_count": null,
   "metadata": {},
   "outputs": [],
   "source": []
  }
 ],
 "metadata": {
  "kernelspec": {
   "display_name": "Python 3",
   "language": "python",
   "name": "python3"
  },
  "language_info": {
   "codemirror_mode": {
    "name": "ipython",
    "version": 3
   },
   "file_extension": ".py",
   "mimetype": "text/x-python",
   "name": "python",
   "nbconvert_exporter": "python",
   "pygments_lexer": "ipython3",
   "version": "3.7.4"
  }
 },
 "nbformat": 4,
 "nbformat_minor": 2
}
