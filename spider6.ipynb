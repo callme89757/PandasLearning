{
 "cells": [
  {
   "cell_type": "code",
   "execution_count": null,
   "metadata": {
    "scrolled": false
   },
   "outputs": [
    {
     "name": "stdout",
     "output_type": "stream",
     "text": [
      "start\n",
      "https://www.liepin.com/zhaopin/?isAnalysis=&dqs=010&pubTime=&salary=&subIndustry=&industryType=&compscale=&key=python&init=-1&searchType=1&headckid=e6f2f03753379173&compkind=&fromSearchBtn=2&sortFlag=15&ckid=826bd5248f7dedea&degradeFlag=0&jobKind=&industries=&clean_condition=&siTag=I-7rQ0e90mv8a37po7dV3Q%7EF5FSJAXvyHmQyODXqGxdVw&d_sfrom=search_fp&d_ckId=3063c1a146f1540289e9448c908d7314&d_curPage=2&d_pageSize=40&d_headId=f7ae1207e36f90a5917c1a71290ed69a&curPage=3\n",
      "{'job': '语音识别产品性能分析师（C/C++/C#/Java/Python）', 'href': 'https://www.liepin.com/job/1925167217.shtml', 'money': '面议_北京-海淀区_本科及以上_2年以上', 'company': '中软国际科技', 'desc': '岗位介绍语音识别产品性能分析师岗位，亲身体验前沿语音识别产品，与语音识别资深专家一起，帮助客户提升语音识别服务的可靠性和稳定性，岗位职责同样会涉及数据爬取和处理。职位要求：• 有2年以上实际编程经验，至少熟练一种编程语言，如 C/C++/C#/Java/Python 。• 熟练使用至少一种脚本语言，perl优先 。 • 精通正则表达式，并有实际文本处理经验。 • 细心，有负责心，善于学习，钻研，较强的沟通能力。 • 通过英语四级，可以用英文进行书面汇报。 • 有语音识别背景优先。• 熟悉多国语言者优先。'}\n",
      "{'job': '高级python开发', 'href': 'https://www.liepin.com/job/1924392209.shtml', 'money': '8-13k·12薪_北京-海淀区_硕士及以上_5年以上', 'company': '瑞鑫天算', 'desc': '职责描述：工作内容：1.参与公司策略开发与业务实现，回测与分析。 2.负责策略的研究与开发。 任职要求：1.精通Python语言开发，精通Python下的多线程/多进程开发，网络通信。 2.熟悉算法与数据结构，有OI经验为佳 3.熟练使用Python下的Numpy，Scipy等科学计算库，掌握PyPy/CPython，加分项： 1.数学功底扎实，掌握Matlab/R等数据分析工具，具有基本的金融二级市场交易知识。 2.有策略开发经验，有程序化交易经验者优先。硕博士优先。'}\n",
      "{'job': 'Python研发工程师', 'href': 'https://www.liepin.com/job/1923330439.shtml', 'money': '15-25k·12薪_北京-呼家楼_本科及以上_1年以上', 'company': '北京格上理财顾问有限公司', 'desc': '\"岗位职责:1. 与产品工程师,前端工程师紧密工作，实现Web产品后台研发；2. 承担后台服务系统的架构/模块的设计和实现工作，对代码质量,服务性能和项目进度负责；3. 确保产品具有优质的用户体验；任职要求:1. 熟练掌握python语言和django框架2. 精通设计模式，熟悉分布式、高性能架构和开发技术，如分布式应用开发、数据分布式管理和同步等3. 思路清晰，善于思考，能独立分析和解决问题，责任心强，有产品研发和项目实施的经验，具备良好的团队合作精神4. 开朗乐观，积极主动，善于沟通，抗压能力强。\"'}\n",
      "{'job': 'python工程师', 'href': 'https://www.liepin.com/job/1922065847.shtml', 'money': '20-30k·12薪_北京_本科及以上_3年以上', 'company': '北京焱融科技有限公司', 'desc': '1、具有良好的操作系统基础和数据结构知识；2、熟悉TCP/IP/HTTP/WSGI/AMQP等协议；3、熟练掌握Python语言，熟悉Django, Pecan, Flask等常用的Web框架；4、熟练掌握MySQL/Memcached/Redis/MongoDB等常用存储技术；5、熟练掌握Git版本管理；6、能独立设计并开发REST风格的API；7、熟悉容器技术8、有存储、云计算产品开发经验优先'}\n"
     ]
    }
   ],
   "source": [
    "import requests as req\n",
    "from bs4 import BeautifulSoup\n",
    "import csv\n",
    "import time\n",
    "num=10\n",
    "url=('https://www.liepin.com/zhaopin/?isAnalysis=&dqs=010&pubTime=&salary=&subIndustry=&industryType=&compscale=&key=python&init=-1&searchType=1&headckid=e6f2f03753379173&compkind=&fromSearchBtn=2&sortFlag=15&ckid=826bd5248f7dedea&degradeFlag=0&jobKind=&industries=&clean_condition=&siTag=I-7rQ0e90mv8a37po7dV3Q%7EF5FSJAXvyHmQyODXqGxdVw&d_sfrom=search_fp&d_ckId=3063c1a146f1540289e9448c908d7314&d_curPage=1&d_pageSize=40&d_headId=f7ae1207e36f90a5917c1a71290ed69a&curPage=2')\n",
    "headers={'user-agent':'Mozilla/5.0 (Windows NT 10.0; WOW64) AppleWebKit/537.36 (KHTML, like Gecko) Chrome/70.0.3538.25 Safari/537.36 Core/1.70.3741.400 QQBrowser/10.5.3863.400',\n",
    "         'cookie':'__uuid=1585464505513.06; abtest=0; __tlog=1586006885161.74%7C00000000%7C00000000%7C00000000%7C00000000; Hm_lvt_a2647413544f5a04f00da7eee0d5e200=1585464506,1586006886; JSESSIONID=2B30072BEC7B1A2E4834757CCE081559; __session_seq=2; __uv_seq=2; Hm_lpvt_a2647413544f5a04f00da7eee0d5e200=1586006898; fe_se=-1586006904419',\n",
    "         'referer':'https://www.liepin.com/zhaopin/'}\n",
    "#while(num>0):\n",
    "# r=req.get(url,headers=headers)\n",
    "# soup=BeautifulSoup(r.text)\n",
    "#print(r.text)\n",
    "jobDict={}\n",
    "# jobLst=[]\n",
    "# print('start')\n",
    "# if 'www' in str(soup.find(class_='last').previous_sibling.get('href')):\n",
    "#     url=('https://www.liepin.com'+str(soup.find(class_='last').previous_sibling.get('href')))\n",
    "# else:\n",
    "#     url=str(soup.find(class_='last').previous_sibling.get('href'))\n",
    "# print(soup.find(class_='last').previous_sibling.get('href'))\n",
    "    #print(soup.find('span',class_='ellipsis').next_sibling.next_sibling)\n",
    "try:\n",
    "    with open('E:/myprogram/spider/liepin.csv','w',encoding='utf-8') as file:\n",
    "        while(num>0):\n",
    "            num=num-3\n",
    "            r=req.get(url,headers=headers)\n",
    "            soup=BeautifulSoup(r.text)\n",
    "            #print(r.text)\n",
    "            print('start')\n",
    "            if 'www' in str(soup.find(class_='last').previous_sibling.get('href')):\n",
    "                url=str(soup.find(class_='last').previous_sibling.get('href'))\n",
    "            else:\n",
    "                url=('https://www.liepin.com'+str(soup.find(class_='last').previous_sibling.get('href')))\n",
    "            print(url)\n",
    "            headerName=['job','money','href','company','desc']\n",
    "            writer = csv.DictWriter(file, fieldnames=headerName)\n",
    "            writer.writeheader()\n",
    "            for info_all in soup.find_all(class_='sojob-item-main clearfix'):\n",
    "                    #print('what')\n",
    "                    #print(info)\n",
    "                    #print(info_all.div)\n",
    "                jobDict['job']=str(info_all.div.h3.a.get_text()).strip()\n",
    "                if 'www' in str(info_all.div.h3.a.get('href')):\n",
    "                    jobDict['href']=str(info_all.div.h3.a.get('href'))\n",
    "                else:\n",
    "                    jobDict['href']=('https://www.liepin.com'+str(info_all.div.h3.a.get('href')))\n",
    "                jobDict['money']=str(info_all.div.p.get('title'))\n",
    "                jobDict['company']=str(info_all.div.next_sibling.next_sibling.p.a.get_text())\n",
    "                r1=req.get(jobDict['href'],headers=headers)\n",
    "                soup1=BeautifulSoup(r1.text)\n",
    "                jobDict['desc']=str(soup1.find(class_='content content-word').get_text().strip())\n",
    "                #jobLst.append(jobDict)\n",
    "                print(jobDict)\n",
    "                writer.writerow(jobDict)\n",
    "                time.sleep(7)\n",
    "except:\n",
    "     print('获取猎聘信息失败！')"
   ]
  },
  {
   "cell_type": "code",
   "execution_count": null,
   "metadata": {},
   "outputs": [],
   "source": []
  }
 ],
 "metadata": {
  "kernelspec": {
   "display_name": "Python 3",
   "language": "python",
   "name": "python3"
  },
  "language_info": {
   "codemirror_mode": {
    "name": "ipython",
    "version": 3
   },
   "file_extension": ".py",
   "mimetype": "text/x-python",
   "name": "python",
   "nbconvert_exporter": "python",
   "pygments_lexer": "ipython3",
   "version": "3.7.4"
  }
 },
 "nbformat": 4,
 "nbformat_minor": 2
}
