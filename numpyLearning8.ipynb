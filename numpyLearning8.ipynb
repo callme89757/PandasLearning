{
 "cells": [
  {
   "cell_type": "code",
   "execution_count": 1,
   "metadata": {},
   "outputs": [
    {
     "name": "stdout",
     "output_type": "stream",
     "text": [
      "   Unnamed: 0                       _id                        title  price  \\\n",
      "0           0  5dd2198f18bba2b4a9a0b854     大华电梯两房/房型正气/开门南北通/房东诚意出售  690.0   \n",
      "1           1  5dd2198f18bba2b4a9a0b855  非底楼 满五年唯一 税费少 婚房装修 楼称佳 户型方正  330.0   \n",
      "2           2  5dd2198f18bba2b4a9a0b856  满五唯一+7号线锦绣路+复式房+带阁楼+小区央位+精装  500.0   \n",
      "3           3  5dd2198f18bba2b4a9a0b857     13号线陈春路地铁400米中间楼层诚意卖看房方便  330.0   \n",
      "4           4  5dd2198f18bba2b4a9a0b858    朝阳正气一房，采光好，坐看花园，户型方正，看房方便  460.0   \n",
      "\n",
      "   up_price        xiaoqu_name   size  buildyear huxing chaoxiang zhuangxiu  \\\n",
      "0     76531  大华锦绣华城(十六街区)(公寓)   90.16       2010  2室2厅         南        简装    \n",
      "1     52290               芳雅苑   63.11       1995  2室1厅         南        精装    \n",
      "2     62878               锦博苑   79.52       2007  2室2厅         南        精装    \n",
      "3     45866              鹏海小区   71.95       1997  2室1厅         南        简装    \n",
      "4     83942            万邦都市花园   54.80       2004  1室1厅         南        简装    \n",
      "\n",
      "       cenggao louxing district_name sub_district_name  \n",
      "0   中楼层(共18层)       板楼            浦东                北蔡  \n",
      "1    低楼层(共6层)       板楼            浦东                北蔡  \n",
      "2    高楼层(共6层)       板楼            浦东                北蔡  \n",
      "3    中楼层(共6层)       板楼            浦东                北蔡  \n",
      "4   中楼层(共11层)       板楼            浦东                北蔡  \n"
     ]
    }
   ],
   "source": [
    "import numpy as np\n",
    "import pandas as pd\n",
    "csv_data=pd.read_csv(r'E:\\myprogram\\numpyLearning\\houses.csv',encoding='gbk')\n",
    "df=csv_data.drop_duplicates()\n",
    "pd.set_option('display.max_rows', 100)\n",
    "print(df.head(5))"
   ]
  },
  {
   "cell_type": "code",
   "execution_count": 2,
   "metadata": {},
   "outputs": [
    {
     "data": {
      "text/plain": [
       "69654"
      ]
     },
     "execution_count": 2,
     "metadata": {},
     "output_type": "execute_result"
    }
   ],
   "source": [
    "len(df)"
   ]
  },
  {
   "cell_type": "code",
   "execution_count": 3,
   "metadata": {},
   "outputs": [
    {
     "data": {
      "text/plain": [
       "8333"
      ]
     },
     "execution_count": 3,
     "metadata": {},
     "output_type": "execute_result"
    }
   ],
   "source": [
    "df1=csv_data.drop_duplicates('xiaoqu_name')\n",
    "len(df1)"
   ]
  },
  {
   "cell_type": "code",
   "execution_count": 4,
   "metadata": {},
   "outputs": [
    {
     "data": {
      "text/plain": [
       "165"
      ]
     },
     "execution_count": 4,
     "metadata": {},
     "output_type": "execute_result"
    }
   ],
   "source": [
    "df2=csv_data.drop_duplicates('sub_district_name')\n",
    "len(df2)"
   ]
  },
  {
   "cell_type": "code",
   "execution_count": 5,
   "metadata": {},
   "outputs": [
    {
     "data": {
      "text/plain": [
       "array(['2室2厅 ', '2室1厅 ', '1室1厅 ', '4室3厅 ', '3室1厅 ', '3室2厅 ', '4室2厅 ',\n",
       "       '1室2厅 ', '2室0厅 ', '5室1厅 ', '1室0厅 ', '5室3厅 ', '5室2厅 ', '4室1厅 ',\n",
       "       '4室4厅 ', '6室3厅 ', '5室6厅 ', '6室2厅 ', '5室4厅 ', '7室3厅 ', '3室3厅 ',\n",
       "       '9室2厅 ', '7室2厅 ', '7室1厅 ', '6室4厅 ', '6室1厅 ', '8室4厅 ', '3室0厅 ',\n",
       "       '7室4厅 ', '7室5厅 ', '4室5厅 ', '9室6厅 ', '9室4厅 ', '6室5厅 ', '10室1厅 ',\n",
       "       '4室0厅 ', '8室1厅 ', '9室3厅 ', '9室9厅 ', '5室5厅 ', '8室3厅 ', '2室3厅 ',\n",
       "       '7室6厅 ', '8室2厅 ', '0室0厅 ', '6室6厅 ', '10室6厅 ', '2室4厅 ', '6室0厅 ',\n",
       "       '10室2厅 ', '7室0厅 ', '3室4厅 ', '8室5厅 ', '10室3厅 ', '5室0厅 ', '3室5厅 '],\n",
       "      dtype=object)"
      ]
     },
     "execution_count": 5,
     "metadata": {},
     "output_type": "execute_result"
    }
   ],
   "source": [
    "df.huxing.unique()"
   ]
  },
  {
   "cell_type": "code",
   "execution_count": 6,
   "metadata": {},
   "outputs": [
    {
     "data": {
      "text/plain": [
       "array([' 简装 ', ' 精装 ', ' 毛坯 ', ' 其他 '], dtype=object)"
      ]
     },
     "execution_count": 6,
     "metadata": {},
     "output_type": "execute_result"
    }
   ],
   "source": [
    "df.zhuangxiu.unique()"
   ]
  },
  {
   "cell_type": "code",
   "execution_count": 7,
   "metadata": {},
   "outputs": [
    {
     "data": {
      "text/plain": [
       "array([2010, 1995, 2007, 1997, 2004, 1994, 2011, 2012, 1998, 2013, 1999,\n",
       "       2016, 2000, 2005, 1996, 2003, 2015, 2006, 2009, 1993, 2002, 2014,\n",
       "       1992, 2008, 2001, 2019, 2018, 1987, 1991, 2017, 1989, 1988, 1982,\n",
       "       1983, 1984, 1981, 1985, 1977, 1986, 1990, 1979, 1980, 1953, 1976,\n",
       "       1958, 1978, 1969, 1974, 1975, 1955, 1971, 1954, 1956, 1959, 1968,\n",
       "       1964, 1960, 1967, 1972, 1961, 1973, 1936, 1911, 1941, 1948, 1949,\n",
       "       1939, 1933, 1940, 1946, 1937, 1910, 1945, 1957, 1965, 1966, 1970,\n",
       "       1963, 1950, 1962, 1930, 1920, 1947, 1938, 1934, 1935, 1921, 1926,\n",
       "       1912, 1924, 1928, 1931, 1943, 1900, 1952, 1951], dtype=int64)"
      ]
     },
     "execution_count": 7,
     "metadata": {},
     "output_type": "execute_result"
    }
   ],
   "source": [
    "df.buildyear.unique()"
   ]
  },
  {
   "cell_type": "code",
   "execution_count": 8,
   "metadata": {},
   "outputs": [
    {
     "data": {
      "text/plain": [
       "55051.4809056192"
      ]
     },
     "execution_count": 8,
     "metadata": {},
     "output_type": "execute_result"
    }
   ],
   "source": [
    "df.up_price.mean()"
   ]
  },
  {
   "cell_type": "code",
   "execution_count": 9,
   "metadata": {},
   "outputs": [
    {
     "data": {
      "text/plain": [
       "huxing\n",
       "8室5厅      1663.100000\n",
       "6室6厅      1440.160000\n",
       "9室9厅      1352.240000\n",
       "9室2厅       757.650000\n",
       "6室5厅       669.482857\n",
       "8室4厅       622.384000\n",
       "10室3厅      598.320000\n",
       "9室3厅       593.010000\n",
       "10室1厅      544.990000\n",
       "7室4厅       535.334444\n",
       "7室5厅       532.396000\n",
       "6室4厅       516.186122\n",
       "6室0厅       504.425000\n",
       "8室3厅       474.710000\n",
       "9室6厅       473.775000\n",
       "10室6厅      473.610000\n",
       "7室3厅       461.077222\n",
       "9室4厅       409.463333\n",
       "7室6厅       406.005000\n",
       "5室4厅       403.056667\n",
       "6室3厅       395.391215\n",
       "8室1厅       386.170000\n",
       "3室5厅       376.210000\n",
       "10室2厅      370.000000\n",
       "8室2厅       366.875556\n",
       "5室3厅       360.780565\n",
       "5室6厅       344.720000\n",
       "5室5厅       334.585000\n",
       "4室5厅       321.000000\n",
       "7室2厅       310.042667\n",
       "6室2厅       289.408435\n",
       "5室2厅       286.614175\n",
       "4室3厅       272.177951\n",
       "4室4厅       265.587143\n",
       "0室0厅       237.622500\n",
       "5室1厅       225.869375\n",
       "4室2厅       208.867312\n",
       "4室0厅       192.590000\n",
       "7室1厅       177.200000\n",
       "3室3厅       175.504030\n",
       "6室1厅       170.230909\n",
       "7室0厅       161.440000\n",
       "4室1厅       154.547586\n",
       "2室4厅       129.400000\n",
       "3室2厅       129.362787\n",
       "2室3厅       118.597500\n",
       "3室4厅        94.370000\n",
       "2室2厅        93.016552\n",
       "3室1厅        91.561336\n",
       "5室0厅        89.600000\n",
       "3室0厅        68.571869\n",
       "1室2厅        67.410990\n",
       "2室1厅        66.915066\n",
       "2室0厅        49.615223\n",
       "1室1厅        46.955651\n",
       "1室0厅        36.206541\n",
       "Name: size, dtype: float64"
      ]
     },
     "execution_count": 9,
     "metadata": {},
     "output_type": "execute_result"
    }
   ],
   "source": [
    "df.groupby('huxing')['size'].mean().sort_values(ascending=False)"
   ]
  },
  {
   "cell_type": "code",
   "execution_count": 20,
   "metadata": {},
   "outputs": [
    {
     "data": {
      "text/html": [
       "<div>\n",
       "<style scoped>\n",
       "    .dataframe tbody tr th:only-of-type {\n",
       "        vertical-align: middle;\n",
       "    }\n",
       "\n",
       "    .dataframe tbody tr th {\n",
       "        vertical-align: top;\n",
       "    }\n",
       "\n",
       "    .dataframe thead th {\n",
       "        text-align: right;\n",
       "    }\n",
       "</style>\n",
       "<table border=\"1\" class=\"dataframe\">\n",
       "  <thead>\n",
       "    <tr style=\"text-align: right;\">\n",
       "      <th></th>\n",
       "      <th>number</th>\n",
       "      <th>mean_size</th>\n",
       "    </tr>\n",
       "    <tr>\n",
       "      <th>huxing</th>\n",
       "      <th></th>\n",
       "      <th></th>\n",
       "    </tr>\n",
       "  </thead>\n",
       "  <tbody>\n",
       "    <tr>\n",
       "      <td>2室1厅</td>\n",
       "      <td>17364</td>\n",
       "      <td>66.915066</td>\n",
       "    </tr>\n",
       "    <tr>\n",
       "      <td>2室2厅</td>\n",
       "      <td>12990</td>\n",
       "      <td>93.016552</td>\n",
       "    </tr>\n",
       "    <tr>\n",
       "      <td>3室2厅</td>\n",
       "      <td>12618</td>\n",
       "      <td>129.362787</td>\n",
       "    </tr>\n",
       "    <tr>\n",
       "      <td>1室1厅</td>\n",
       "      <td>12103</td>\n",
       "      <td>46.955651</td>\n",
       "    </tr>\n",
       "    <tr>\n",
       "      <td>4室2厅</td>\n",
       "      <td>3613</td>\n",
       "      <td>208.867312</td>\n",
       "    </tr>\n",
       "    <tr>\n",
       "      <td>3室1厅</td>\n",
       "      <td>3451</td>\n",
       "      <td>91.561336</td>\n",
       "    </tr>\n",
       "    <tr>\n",
       "      <td>1室0厅</td>\n",
       "      <td>1914</td>\n",
       "      <td>36.206541</td>\n",
       "    </tr>\n",
       "    <tr>\n",
       "      <td>2室0厅</td>\n",
       "      <td>1369</td>\n",
       "      <td>49.615223</td>\n",
       "    </tr>\n",
       "    <tr>\n",
       "      <td>1室2厅</td>\n",
       "      <td>1192</td>\n",
       "      <td>67.410990</td>\n",
       "    </tr>\n",
       "    <tr>\n",
       "      <td>5室2厅</td>\n",
       "      <td>855</td>\n",
       "      <td>286.614175</td>\n",
       "    </tr>\n",
       "    <tr>\n",
       "      <td>5室3厅</td>\n",
       "      <td>584</td>\n",
       "      <td>360.780565</td>\n",
       "    </tr>\n",
       "    <tr>\n",
       "      <td>4室3厅</td>\n",
       "      <td>566</td>\n",
       "      <td>272.177951</td>\n",
       "    </tr>\n",
       "    <tr>\n",
       "      <td>6室3厅</td>\n",
       "      <td>181</td>\n",
       "      <td>395.391215</td>\n",
       "    </tr>\n",
       "    <tr>\n",
       "      <td>6室2厅</td>\n",
       "      <td>147</td>\n",
       "      <td>289.408435</td>\n",
       "    </tr>\n",
       "    <tr>\n",
       "      <td>4室1厅</td>\n",
       "      <td>145</td>\n",
       "      <td>154.547586</td>\n",
       "    </tr>\n",
       "    <tr>\n",
       "      <td>3室3厅</td>\n",
       "      <td>134</td>\n",
       "      <td>175.504030</td>\n",
       "    </tr>\n",
       "    <tr>\n",
       "      <td>3室0厅</td>\n",
       "      <td>107</td>\n",
       "      <td>68.571869</td>\n",
       "    </tr>\n",
       "    <tr>\n",
       "      <td>5室4厅</td>\n",
       "      <td>51</td>\n",
       "      <td>403.056667</td>\n",
       "    </tr>\n",
       "    <tr>\n",
       "      <td>6室4厅</td>\n",
       "      <td>49</td>\n",
       "      <td>516.186122</td>\n",
       "    </tr>\n",
       "    <tr>\n",
       "      <td>7室3厅</td>\n",
       "      <td>36</td>\n",
       "      <td>461.077222</td>\n",
       "    </tr>\n",
       "    <tr>\n",
       "      <td>5室1厅</td>\n",
       "      <td>32</td>\n",
       "      <td>225.869375</td>\n",
       "    </tr>\n",
       "    <tr>\n",
       "      <td>7室2厅</td>\n",
       "      <td>30</td>\n",
       "      <td>310.042667</td>\n",
       "    </tr>\n",
       "    <tr>\n",
       "      <td>4室4厅</td>\n",
       "      <td>21</td>\n",
       "      <td>265.587143</td>\n",
       "    </tr>\n",
       "    <tr>\n",
       "      <td>6室1厅</td>\n",
       "      <td>11</td>\n",
       "      <td>170.230909</td>\n",
       "    </tr>\n",
       "    <tr>\n",
       "      <td>7室4厅</td>\n",
       "      <td>9</td>\n",
       "      <td>535.334444</td>\n",
       "    </tr>\n",
       "    <tr>\n",
       "      <td>8室2厅</td>\n",
       "      <td>9</td>\n",
       "      <td>366.875556</td>\n",
       "    </tr>\n",
       "    <tr>\n",
       "      <td>2室3厅</td>\n",
       "      <td>8</td>\n",
       "      <td>118.597500</td>\n",
       "    </tr>\n",
       "    <tr>\n",
       "      <td>6室5厅</td>\n",
       "      <td>7</td>\n",
       "      <td>669.482857</td>\n",
       "    </tr>\n",
       "    <tr>\n",
       "      <td>8室3厅</td>\n",
       "      <td>6</td>\n",
       "      <td>474.710000</td>\n",
       "    </tr>\n",
       "    <tr>\n",
       "      <td>7室5厅</td>\n",
       "      <td>5</td>\n",
       "      <td>532.396000</td>\n",
       "    </tr>\n",
       "    <tr>\n",
       "      <td>8室4厅</td>\n",
       "      <td>5</td>\n",
       "      <td>622.384000</td>\n",
       "    </tr>\n",
       "    <tr>\n",
       "      <td>9室2厅</td>\n",
       "      <td>4</td>\n",
       "      <td>757.650000</td>\n",
       "    </tr>\n",
       "    <tr>\n",
       "      <td>0室0厅</td>\n",
       "      <td>4</td>\n",
       "      <td>237.622500</td>\n",
       "    </tr>\n",
       "    <tr>\n",
       "      <td>9室4厅</td>\n",
       "      <td>3</td>\n",
       "      <td>409.463333</td>\n",
       "    </tr>\n",
       "    <tr>\n",
       "      <td>4室0厅</td>\n",
       "      <td>3</td>\n",
       "      <td>192.590000</td>\n",
       "    </tr>\n",
       "    <tr>\n",
       "      <td>5室6厅</td>\n",
       "      <td>3</td>\n",
       "      <td>344.720000</td>\n",
       "    </tr>\n",
       "    <tr>\n",
       "      <td>6室0厅</td>\n",
       "      <td>2</td>\n",
       "      <td>504.425000</td>\n",
       "    </tr>\n",
       "    <tr>\n",
       "      <td>5室5厅</td>\n",
       "      <td>2</td>\n",
       "      <td>334.585000</td>\n",
       "    </tr>\n",
       "    <tr>\n",
       "      <td>9室6厅</td>\n",
       "      <td>2</td>\n",
       "      <td>473.775000</td>\n",
       "    </tr>\n",
       "    <tr>\n",
       "      <td>7室1厅</td>\n",
       "      <td>2</td>\n",
       "      <td>177.200000</td>\n",
       "    </tr>\n",
       "    <tr>\n",
       "      <td>7室6厅</td>\n",
       "      <td>2</td>\n",
       "      <td>406.005000</td>\n",
       "    </tr>\n",
       "    <tr>\n",
       "      <td>2室4厅</td>\n",
       "      <td>1</td>\n",
       "      <td>129.400000</td>\n",
       "    </tr>\n",
       "    <tr>\n",
       "      <td>9室3厅</td>\n",
       "      <td>1</td>\n",
       "      <td>593.010000</td>\n",
       "    </tr>\n",
       "    <tr>\n",
       "      <td>10室2厅</td>\n",
       "      <td>1</td>\n",
       "      <td>370.000000</td>\n",
       "    </tr>\n",
       "    <tr>\n",
       "      <td>8室5厅</td>\n",
       "      <td>1</td>\n",
       "      <td>1663.100000</td>\n",
       "    </tr>\n",
       "    <tr>\n",
       "      <td>10室3厅</td>\n",
       "      <td>1</td>\n",
       "      <td>598.320000</td>\n",
       "    </tr>\n",
       "    <tr>\n",
       "      <td>10室6厅</td>\n",
       "      <td>1</td>\n",
       "      <td>473.610000</td>\n",
       "    </tr>\n",
       "    <tr>\n",
       "      <td>3室4厅</td>\n",
       "      <td>1</td>\n",
       "      <td>94.370000</td>\n",
       "    </tr>\n",
       "    <tr>\n",
       "      <td>8室1厅</td>\n",
       "      <td>1</td>\n",
       "      <td>386.170000</td>\n",
       "    </tr>\n",
       "    <tr>\n",
       "      <td>3室5厅</td>\n",
       "      <td>1</td>\n",
       "      <td>376.210000</td>\n",
       "    </tr>\n",
       "    <tr>\n",
       "      <td>4室5厅</td>\n",
       "      <td>1</td>\n",
       "      <td>321.000000</td>\n",
       "    </tr>\n",
       "    <tr>\n",
       "      <td>7室0厅</td>\n",
       "      <td>1</td>\n",
       "      <td>161.440000</td>\n",
       "    </tr>\n",
       "    <tr>\n",
       "      <td>6室6厅</td>\n",
       "      <td>1</td>\n",
       "      <td>1440.160000</td>\n",
       "    </tr>\n",
       "    <tr>\n",
       "      <td>5室0厅</td>\n",
       "      <td>1</td>\n",
       "      <td>89.600000</td>\n",
       "    </tr>\n",
       "    <tr>\n",
       "      <td>10室1厅</td>\n",
       "      <td>1</td>\n",
       "      <td>544.990000</td>\n",
       "    </tr>\n",
       "    <tr>\n",
       "      <td>9室9厅</td>\n",
       "      <td>1</td>\n",
       "      <td>1352.240000</td>\n",
       "    </tr>\n",
       "  </tbody>\n",
       "</table>\n",
       "</div>"
      ],
      "text/plain": [
       "        number    mean_size\n",
       "huxing                     \n",
       "2室1厅     17364    66.915066\n",
       "2室2厅     12990    93.016552\n",
       "3室2厅     12618   129.362787\n",
       "1室1厅     12103    46.955651\n",
       "4室2厅      3613   208.867312\n",
       "3室1厅      3451    91.561336\n",
       "1室0厅      1914    36.206541\n",
       "2室0厅      1369    49.615223\n",
       "1室2厅      1192    67.410990\n",
       "5室2厅       855   286.614175\n",
       "5室3厅       584   360.780565\n",
       "4室3厅       566   272.177951\n",
       "6室3厅       181   395.391215\n",
       "6室2厅       147   289.408435\n",
       "4室1厅       145   154.547586\n",
       "3室3厅       134   175.504030\n",
       "3室0厅       107    68.571869\n",
       "5室4厅        51   403.056667\n",
       "6室4厅        49   516.186122\n",
       "7室3厅        36   461.077222\n",
       "5室1厅        32   225.869375\n",
       "7室2厅        30   310.042667\n",
       "4室4厅        21   265.587143\n",
       "6室1厅        11   170.230909\n",
       "7室4厅         9   535.334444\n",
       "8室2厅         9   366.875556\n",
       "2室3厅         8   118.597500\n",
       "6室5厅         7   669.482857\n",
       "8室3厅         6   474.710000\n",
       "7室5厅         5   532.396000\n",
       "8室4厅         5   622.384000\n",
       "9室2厅         4   757.650000\n",
       "0室0厅         4   237.622500\n",
       "9室4厅         3   409.463333\n",
       "4室0厅         3   192.590000\n",
       "5室6厅         3   344.720000\n",
       "6室0厅         2   504.425000\n",
       "5室5厅         2   334.585000\n",
       "9室6厅         2   473.775000\n",
       "7室1厅         2   177.200000\n",
       "7室6厅         2   406.005000\n",
       "2室4厅         1   129.400000\n",
       "9室3厅         1   593.010000\n",
       "10室2厅        1   370.000000\n",
       "8室5厅         1  1663.100000\n",
       "10室3厅        1   598.320000\n",
       "10室6厅        1   473.610000\n",
       "3室4厅         1    94.370000\n",
       "8室1厅         1   386.170000\n",
       "3室5厅         1   376.210000\n",
       "4室5厅         1   321.000000\n",
       "7室0厅         1   161.440000\n",
       "6室6厅         1  1440.160000\n",
       "5室0厅         1    89.600000\n",
       "10室1厅        1   544.990000\n",
       "9室9厅         1  1352.240000"
      ]
     },
     "execution_count": 20,
     "metadata": {},
     "output_type": "execute_result"
    }
   ],
   "source": [
    "df.groupby(\"huxing\")[\"size\"].agg([(\"number\",\"count\"),(\"mean_size\",\"mean\")]).sort_values(by = \"number\",ascending=False)"
   ]
  },
  {
   "cell_type": "code",
   "execution_count": 21,
   "metadata": {},
   "outputs": [
    {
     "data": {
      "text/html": [
       "<div>\n",
       "<style scoped>\n",
       "    .dataframe tbody tr th:only-of-type {\n",
       "        vertical-align: middle;\n",
       "    }\n",
       "\n",
       "    .dataframe tbody tr th {\n",
       "        vertical-align: top;\n",
       "    }\n",
       "\n",
       "    .dataframe thead th {\n",
       "        text-align: right;\n",
       "    }\n",
       "</style>\n",
       "<table border=\"1\" class=\"dataframe\">\n",
       "  <thead>\n",
       "    <tr style=\"text-align: right;\">\n",
       "      <th></th>\n",
       "      <th>per_meter_price</th>\n",
       "    </tr>\n",
       "    <tr>\n",
       "      <th>xiaoqu_name</th>\n",
       "      <th></th>\n",
       "    </tr>\n",
       "  </thead>\n",
       "  <tbody>\n",
       "    <tr>\n",
       "      <td>MAX未来</td>\n",
       "      <td>31574.105263</td>\n",
       "    </tr>\n",
       "    <tr>\n",
       "      <td>VIP大厦</td>\n",
       "      <td>70574.000000</td>\n",
       "    </tr>\n",
       "    <tr>\n",
       "      <td>一品名人居</td>\n",
       "      <td>76460.166667</td>\n",
       "    </tr>\n",
       "    <tr>\n",
       "      <td>一品新筑苑</td>\n",
       "      <td>65559.700000</td>\n",
       "    </tr>\n",
       "    <tr>\n",
       "      <td>一品漫城(一期)(公寓)</td>\n",
       "      <td>55750.400000</td>\n",
       "    </tr>\n",
       "    <tr>\n",
       "      <td>...</td>\n",
       "      <td>...</td>\n",
       "    </tr>\n",
       "    <tr>\n",
       "      <td>龙阳小区</td>\n",
       "      <td>65840.666667</td>\n",
       "    </tr>\n",
       "    <tr>\n",
       "      <td>龙阳花苑</td>\n",
       "      <td>72077.800000</td>\n",
       "    </tr>\n",
       "    <tr>\n",
       "      <td>龚华公寓</td>\n",
       "      <td>33396.250000</td>\n",
       "    </tr>\n",
       "    <tr>\n",
       "      <td>龚华新村</td>\n",
       "      <td>34649.312500</td>\n",
       "    </tr>\n",
       "    <tr>\n",
       "      <td>龚路新城</td>\n",
       "      <td>33937.764706</td>\n",
       "    </tr>\n",
       "  </tbody>\n",
       "</table>\n",
       "<p>8333 rows × 1 columns</p>\n",
       "</div>"
      ],
      "text/plain": [
       "               per_meter_price\n",
       "xiaoqu_name                   \n",
       "MAX未来             31574.105263\n",
       "VIP大厦             70574.000000\n",
       "一品名人居             76460.166667\n",
       "一品新筑苑             65559.700000\n",
       "一品漫城(一期)(公寓)      55750.400000\n",
       "...                        ...\n",
       "龙阳小区              65840.666667\n",
       "龙阳花苑              72077.800000\n",
       "龚华公寓              33396.250000\n",
       "龚华新村              34649.312500\n",
       "龚路新城              33937.764706\n",
       "\n",
       "[8333 rows x 1 columns]"
      ]
     },
     "execution_count": 21,
     "metadata": {},
     "output_type": "execute_result"
    }
   ],
   "source": [
    "df.groupby(\"xiaoqu_name\")[\"up_price\"].agg([(\"per_meter_price\",\"mean\")]).sort_values(by = \"per_meter_price\",ascending=False)"
   ]
  },
  {
   "cell_type": "code",
   "execution_count": 14,
   "metadata": {},
   "outputs": [
    {
     "data": {
      "text/plain": [
       "46396    35000.0\n",
       "18891    30000.0\n",
       "46451    30000.0\n",
       "28332    24999.0\n",
       "18875    21000.0\n",
       "Name: price, dtype: float64"
      ]
     },
     "execution_count": 14,
     "metadata": {},
     "output_type": "execute_result"
    }
   ],
   "source": [
    "df['price'].sort_values(ascending=False).head(5)"
   ]
  },
  {
   "cell_type": "code",
   "execution_count": 17,
   "metadata": {},
   "outputs": [
    {
     "data": {
      "text/plain": [
       "1900-12-31        1\n",
       "1910-12-31        1\n",
       "1920-12-31        7\n",
       "1930-12-31       36\n",
       "1940-12-31      112\n",
       "1950-12-31       40\n",
       "1960-12-31      425\n",
       "1970-12-31      234\n",
       "1980-12-31     1282\n",
       "1990-12-31     8536\n",
       "2000-12-31    23747\n",
       "2010-12-31    25136\n",
       "2020-12-31    10097\n",
       "Freq: 10A-DEC, Name: buildyear, dtype: int64"
      ]
     },
     "execution_count": 17,
     "metadata": {},
     "output_type": "execute_result"
    }
   ],
   "source": [
    "df['buildyear']=df['buildyear'].astype(str)\n",
    "df['buildyear']=pd.to_datetime(df['buildyear'],format=\"%Y\")\n",
    "df.set_index('buildyear',drop=True)\n",
    "df['buildyear'].value_counts().resample('10A').sum()"
   ]
  },
  {
   "cell_type": "code",
   "execution_count": null,
   "metadata": {},
   "outputs": [],
   "source": []
  }
 ],
 "metadata": {
  "kernelspec": {
   "display_name": "Python 3",
   "language": "python",
   "name": "python3"
  },
  "language_info": {
   "codemirror_mode": {
    "name": "ipython",
    "version": 3
   },
   "file_extension": ".py",
   "mimetype": "text/x-python",
   "name": "python",
   "nbconvert_exporter": "python",
   "pygments_lexer": "ipython3",
   "version": "3.7.4"
  }
 },
 "nbformat": 4,
 "nbformat_minor": 2
}
