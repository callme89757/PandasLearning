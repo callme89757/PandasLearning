{
 "cells": [
  {
   "cell_type": "code",
   "execution_count": 10,
   "metadata": {},
   "outputs": [],
   "source": [
    "import requests as req\n",
    "import csv\n",
    "url='https://www.zhihu.com/api/v3/feed/topstory/recommend?session_token=2d0f6b9c4e7bcb3a32c614abcca704c7&desktop=true&page_number=4&limit=6&action=down&after_id=17&ad_interval=-1'\n",
    "headers={'user-agent':'Mozilla/5.0 (Windows NT 10.0; WOW64) AppleWebKit/537.36 (KHTML, like Gecko) Chrome/70.0.3538.25 Safari/537.36 Core/1.70.3741.400 QQBrowser/10.5.3863.400',\n",
    "         'cookie':'_zap=814800da-4c07-46bc-8612-cbb108cd1981; d_c0=\"AGDZV8Y18hCPTjVJoGspLx3GtQZJZ-h4En4=|1583912348\"; _ga=GA1.2.380851523.1583912351; _xsrf=UD5gwgT2rXXQ4KntlVjJJ9qbKZG8wTkY; _gid=GA1.2.612301113.1584770480; capsion_ticket=\"2|1:0|10:1584770480|14:capsion_ticket|44:Y2M1YWY4ZGVhNDA5NDdhNmI3Y2VmYmQzYWM3NGU5MTE=|7b1c08199dff537c633721a8c3d558b97e377f911226d95562843b8f05e8c564\"; z_c0=\"2|1:0|10:1584770570|4:z_c0|92:Mi4xbVlNSEJBQUFBQUFBWU5sWHhqWHlFQ1lBQUFCZ0FsVk5DdnhpWHdCMWVQUWEzQXJJSkNBZUVYcTktYkdyRVhDYThn|19a2c2e12d1a7e9ac9efe37ef8631027c25a7a346d24dfbdbf2770a532ec84b6\"; unlock_ticket=\"ABDCk2pMPgsmAAAAYAJVTRK1dV4KpDrxZEwGkLnxtD3vb9nWhMF41Q==\"; tst=r; _gat_gtag_UA_149949619_1=1; Hm_lvt_98beee57fd2ef70ccdd5ca52b9740c49=1583926075,1583932694,1584770480,1584770844; Hm_lpvt_98beee57fd2ef70ccdd5ca52b9740c49=1584770844; KLBRSID=9d75f80756f65c61b0a50d80b4ca9b13|1584770858|1584770479'}\n",
    "r=req.get(url,headers=headers)\n",
    "dictZhihu=r.json()\n",
    "try:\n",
    "    with open('E:/myprogram/spider/zhihu.csv','w',encoding='utf-8') as file:\n",
    "        headerName=['id','title','content']\n",
    "        writer = csv.DictWriter(file, fieldnames=headerName)\n",
    "        writer.writeheader()\n",
    "        for info in dictZhihu['data']:\n",
    "            answerType=info['target']['type']\n",
    "            if answerType =='answer':\n",
    "                answer={'id':info['id'],\n",
    "                        'title':info['target']['question']['title'],\n",
    "                        'content':info['target']['content']\n",
    "                        }\n",
    "            elif answerType =='article':\n",
    "                answer={'id':info['id'],\n",
    "                        'title':info['target']['title'],\n",
    "                        'content':info['target']['content']\n",
    "                        }\n",
    "            else:\n",
    "                continue\n",
    "            writer.writerow(answer)\n",
    "except:\n",
    "    print('获取知乎信息失败！')"
   ]
  },
  {
   "cell_type": "code",
   "execution_count": null,
   "metadata": {},
   "outputs": [],
   "source": []
  }
 ],
 "metadata": {
  "kernelspec": {
   "display_name": "Python 3",
   "language": "python",
   "name": "python3"
  },
  "language_info": {
   "codemirror_mode": {
    "name": "ipython",
    "version": 3
   },
   "file_extension": ".py",
   "mimetype": "text/x-python",
   "name": "python",
   "nbconvert_exporter": "python",
   "pygments_lexer": "ipython3",
   "version": "3.7.4"
  }
 },
 "nbformat": 4,
 "nbformat_minor": 2
}
