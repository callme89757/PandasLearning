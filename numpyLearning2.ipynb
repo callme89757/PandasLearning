{
 "cells": [
  {
   "cell_type": "code",
   "execution_count": 10,
   "metadata": {},
   "outputs": [
    {
     "name": "stdout",
     "output_type": "stream",
     "text": [
      "['5.1' '4.9' '4.7' '4.6' '5' '5.4' '4.6' '5' '4.4' '4.9' '5.4' '4.8' '4.8'\n",
      " '4.3' '5.8' '5.7' '5.4' '5.1' '5.7' '5.1' '5.4' '5.1' '4.6' '5.1' '4.8'\n",
      " '5' '5' '5.2' '5.2' '4.7' '4.8' '5.4' '5.2' '5.5' '4.9' '5' '5.5' '4.9'\n",
      " '4.4' '5.1' '5' '4.5' '4.4' '5' '5.1' '4.8' '5.1' '4.6' '5.3' '5' '7'\n",
      " '6.4' '6.9' '5.5' '6.5' '5.7' '6.3' '4.9' '6.6' '5.2' '5' '5.9' '6' '6.1'\n",
      " '5.6' '6.7' '5.6' '5.8' '6.2' '5.6' '5.9' '6.1' '6.3' '6.1' '6.4' '6.6'\n",
      " '6.8' '6.7' '6' '5.7' '5.5' '5.5' '5.8' '6' '5.4' '6' '6.7' '6.3' '5.6'\n",
      " '5.5' '5.5' '6.1' '5.8' '5' '5.6' '5.7' '5.7' '6.2' '5.1' '5.7' '6.3'\n",
      " '5.8' '7.1' '6.3' '6.5' '7.6' '4.9' '7.3' '6.7' '7.2' '6.5' '6.4' '6.8'\n",
      " '5.7' '5.8' '6.4' '6.5' '7.7' '7.7' '6' '6.9' '5.6' '7.7' '6.3' '6.7'\n",
      " '7.2' '6.2' '6.1' '6.4' '7.2' '7.4' '7.9' '6.4' '6.3' '6.1' '7.7' '6.3'\n",
      " '6.4' '6' '6.9' '6.7' '6.9' '5.8' '6.8' '6.7' '6.7' '6.3' '6.5' '6.2'\n",
      " '5.9']\n"
     ]
    },
    {
     "data": {
      "text/plain": [
       "'4.3'"
      ]
     },
     "execution_count": 10,
     "metadata": {},
     "output_type": "execute_result"
    }
   ],
   "source": [
    "import numpy as np\n",
    "import csv\n",
    "p=r'E:\\myprogram\\numpyLearning\\iris.csv'\n",
    "with open(p,encoding='utf-8-sig') as f:\n",
    "    iris=np.loadtxt(f,str)\n",
    "print(iris)\n",
    "maxLocation=np.argmax(iris)\n",
    "minLocation=np.argmin(iris)\n"
   ]
  },
  {
   "cell_type": "code",
   "execution_count": 13,
   "metadata": {},
   "outputs": [
    {
     "data": {
      "text/plain": [
       "'7.9'"
      ]
     },
     "execution_count": 13,
     "metadata": {},
     "output_type": "execute_result"
    }
   ],
   "source": [
    "max(iris)"
   ]
  },
  {
   "cell_type": "code",
   "execution_count": 12,
   "metadata": {},
   "outputs": [
    {
     "data": {
      "text/plain": [
       "'4.3'"
      ]
     },
     "execution_count": 12,
     "metadata": {},
     "output_type": "execute_result"
    }
   ],
   "source": [
    "min(iris)"
   ]
  },
  {
   "cell_type": "code",
   "execution_count": 15,
   "metadata": {},
   "outputs": [
    {
     "name": "stdout",
     "output_type": "stream",
     "text": [
      "['4.3' '4.4' '4.4' '4.4' '4.5' '4.6' '4.6' '4.6' '4.6' '4.7' '4.7' '4.8'\n",
      " '4.8' '4.8' '4.8' '4.8' '4.9' '4.9' '4.9' '4.9' '4.9' '4.9' '5' '5' '5'\n",
      " '5' '5' '5' '5' '5' '5' '5' '5.1' '5.1' '5.1' '5.1' '5.1' '5.1' '5.1'\n",
      " '5.1' '5.1' '5.2' '5.2' '5.2' '5.2' '5.3' '5.4' '5.4' '5.4' '5.4' '5.4'\n",
      " '5.4' '5.5' '5.5' '5.5' '5.5' '5.5' '5.5' '5.5' '5.6' '5.6' '5.6' '5.6'\n",
      " '5.6' '5.6' '5.7' '5.7' '5.7' '5.7' '5.7' '5.7' '5.7' '5.7' '5.8' '5.8'\n",
      " '5.8' '5.8' '5.8' '5.8' '5.8' '5.9' '5.9' '5.9' '6' '6' '6' '6' '6' '6'\n",
      " '6.1' '6.1' '6.1' '6.1' '6.1' '6.1' '6.2' '6.2' '6.2' '6.2' '6.3' '6.3'\n",
      " '6.3' '6.3' '6.3' '6.3' '6.3' '6.3' '6.3' '6.4' '6.4' '6.4' '6.4' '6.4'\n",
      " '6.4' '6.4' '6.5' '6.5' '6.5' '6.5' '6.5' '6.6' '6.6' '6.7' '6.7' '6.7'\n",
      " '6.7' '6.7' '6.7' '6.7' '6.7' '6.8' '6.8' '6.8' '6.9' '6.9' '6.9' '6.9'\n",
      " '7' '7.1' '7.2' '7.2' '7.2' '7.3' '7.4' '7.6' '7.7' '7.7' '7.7' '7.7'\n",
      " '7.9']\n"
     ]
    }
   ],
   "source": [
    "iris.sort()\n",
    "print(iris)"
   ]
  },
  {
   "cell_type": "code",
   "execution_count": 17,
   "metadata": {},
   "outputs": [
    {
     "name": "stdout",
     "output_type": "stream",
     "text": [
      "['4.3' '4.4' '4.5' '4.6' '4.7' '4.8' '4.9' '5' '5.1' '5.2' '5.3' '5.4'\n",
      " '5.5' '5.6' '5.7' '5.8' '5.9' '6' '6.1' '6.2' '6.3' '6.4' '6.5' '6.6'\n",
      " '6.7' '6.8' '6.9' '7' '7.1' '7.2' '7.3' '7.4' '7.6' '7.7' '7.9']\n"
     ]
    }
   ],
   "source": [
    "uniris=np.unique(iris)\n",
    "print(uniris)"
   ]
  },
  {
   "cell_type": "code",
   "execution_count": 26,
   "metadata": {},
   "outputs": [
    {
     "data": {
      "text/plain": [
       "5.843333333333334"
      ]
     },
     "execution_count": 26,
     "metadata": {},
     "output_type": "execute_result"
    }
   ],
   "source": [
    "iris.astype(float)\n",
    "iris.mean()"
   ]
  },
  {
   "cell_type": "code",
   "execution_count": 27,
   "metadata": {},
   "outputs": [
    {
     "data": {
      "text/plain": [
       "0.6811222222222223"
      ]
     },
     "execution_count": 27,
     "metadata": {},
     "output_type": "execute_result"
    }
   ],
   "source": [
    "iris.var()"
   ]
  },
  {
   "cell_type": "code",
   "execution_count": 28,
   "metadata": {},
   "outputs": [
    {
     "data": {
      "text/plain": [
       "0.8253012917851409"
      ]
     },
     "execution_count": 28,
     "metadata": {},
     "output_type": "execute_result"
    }
   ],
   "source": [
    "iris.std()"
   ]
  },
  {
   "cell_type": "code",
   "execution_count": 29,
   "metadata": {},
   "outputs": [
    {
     "name": "stdout",
     "output_type": "stream",
     "text": [
      "876.5000000000002\n"
     ]
    }
   ],
   "source": [
    "print(sum(iris))"
   ]
  },
  {
   "cell_type": "code",
   "execution_count": 30,
   "metadata": {},
   "outputs": [
    {
     "name": "stdout",
     "output_type": "stream",
     "text": [
      "[  4.3   8.7  13.1  17.5  22.   26.6  31.2  35.8  40.4  45.1  49.8  54.6\n",
      "  59.4  64.2  69.   73.8  78.7  83.6  88.5  93.4  98.3 103.2 108.2 113.2\n",
      " 118.2 123.2 128.2 133.2 138.2 143.2 148.2 153.2 158.3 163.4 168.5 173.6\n",
      " 178.7 183.8 188.9 194.  199.1 204.3 209.5 214.7 219.9 225.2 230.6 236.\n",
      " 241.4 246.8 252.2 257.6 263.1 268.6 274.1 279.6 285.1 290.6 296.1 301.7\n",
      " 307.3 312.9 318.5 324.1 329.7 335.4 341.1 346.8 352.5 358.2 363.9 369.6\n",
      " 375.3 381.1 386.9 392.7 398.5 404.3 410.1 415.9 421.8 427.7 433.6 439.6\n",
      " 445.6 451.6 457.6 463.6 469.6 475.7 481.8 487.9 494.  500.1 506.2 512.4\n",
      " 518.6 524.8 531.  537.3 543.6 549.9 556.2 562.5 568.8 575.1 581.4 587.7\n",
      " 594.1 600.5 606.9 613.3 619.7 626.1 632.5 639.  645.5 652.  658.5 665.\n",
      " 671.6 678.2 684.9 691.6 698.3 705.  711.7 718.4 725.1 731.8 738.6 745.4\n",
      " 752.2 759.1 766.  772.9 779.8 786.8 793.9 801.1 808.3 815.5 822.8 830.2\n",
      " 837.8 845.5 853.2 860.9 868.6 876.5]\n"
     ]
    }
   ],
   "source": [
    "print(iris.cumsum())"
   ]
  },
  {
   "cell_type": "code",
   "execution_count": 31,
   "metadata": {},
   "outputs": [
    {
     "data": {
      "text/plain": [
       "70"
      ]
     },
     "execution_count": 31,
     "metadata": {},
     "output_type": "execute_result"
    }
   ],
   "source": [
    "(iris>5.84).sum()"
   ]
  }
 ],
 "metadata": {
  "kernelspec": {
   "display_name": "Python 3",
   "language": "python",
   "name": "python3"
  },
  "language_info": {
   "codemirror_mode": {
    "name": "ipython",
    "version": 3
   },
   "file_extension": ".py",
   "mimetype": "text/x-python",
   "name": "python",
   "nbconvert_exporter": "python",
   "pygments_lexer": "ipython3",
   "version": "3.7.4"
  }
 },
 "nbformat": 4,
 "nbformat_minor": 2
}
