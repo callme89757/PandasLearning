{
 "cells": [
  {
   "cell_type": "code",
   "execution_count": 1,
   "metadata": {},
   "outputs": [
    {
     "name": "stdout",
     "output_type": "stream",
     "text": [
      "{\"status\":1002,\"desc\":\"invilad-citykey\"}\n"
     ]
    }
   ],
   "source": [
    "import requests as req\n",
    "url='http://wthrcdn.etouch.cn/weather_mini?city='\n",
    "r=req.get(url)\n",
    "print(r.text)"
   ]
  },
  {
   "cell_type": "code",
   "execution_count": null,
   "metadata": {},
   "outputs": [
    {
     "name": "stdout",
     "output_type": "stream",
     "text": [
      "请输入城市，回车退出\n",
      "\n",
      "请输入城市，回车退出北京\n",
      "北京\n",
      "11日星期三\n",
      "高温 14℃\n",
      "低温 1℃\n",
      "西南风\n",
      "请输入城市，回车退出fs\n",
      "fs\n",
      "请输入城市，回车退出\n",
      "\n"
     ]
    }
   ],
   "source": [
    "flag=1\n",
    "while(flag):\n",
    "    city=input(\"请输入城市，回车退出\")\n",
    "    print(city)\n",
    "    url=('http://wthrcdn.etouch.cn/weather_mini?city=%s' %city)\n",
    "    r=req.get(url)\n",
    "    num=req.get(url).json()['status']\n",
    "    if city == False: \n",
    "        flag=0\n",
    "    elif city == True and num==1002:\n",
    "        print(\"未获得\")\n",
    "        continue\n",
    "    elif num==1000:\n",
    "        dd=r.json()['data']\n",
    "        print(dd['forecast'][0]['date'])\n",
    "        print(dd['forecast'][0]['high'])\n",
    "        print(dd['forecast'][0]['low'])\n",
    "        print(dd['forecast'][0]['fengxiang'])"
   ]
  },
  {
   "cell_type": "code",
   "execution_count": null,
   "metadata": {},
   "outputs": [],
   "source": []
  }
 ],
 "metadata": {
  "kernelspec": {
   "display_name": "Python 3",
   "language": "python",
   "name": "python3"
  },
  "language_info": {
   "codemirror_mode": {
    "name": "ipython",
    "version": 3
   },
   "file_extension": ".py",
   "mimetype": "text/x-python",
   "name": "python",
   "nbconvert_exporter": "python",
   "pygments_lexer": "ipython3",
   "version": "3.7.4"
  }
 },
 "nbformat": 4,
 "nbformat_minor": 2
}
